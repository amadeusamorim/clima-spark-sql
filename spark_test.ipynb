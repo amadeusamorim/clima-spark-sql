{
 "cells": [
  {
   "cell_type": "markdown",
   "id": "580dd39c-f066-4c32-af47-648eb71f5918",
   "metadata": {
    "tags": []
   },
   "source": [
    "# Desafio: Consumo de Dados para Previsão do Tempo das Cidades do Vale do Paraíba.\n",
    "\n",
    "## Objetivo\n",
    "\n",
    "Avaliar conhecimentos nas linguagens Python e SQL e na engine de processamento Apache Spark.\n",
    "\n",
    "## Descrição\n",
    "\n",
    "Neste desafio, você desenvolverá um notebook que será responsável por extrair dados de previsão do tempo das cidades do Vale do Paraíba, região onde se localiza a Dataside. Para consultar todas as cidades dessa região, utilizaremos a API do IBGE. No caso, basta realizar uma requisição HTTP com o método GET, utilizando a URL abaixo:\n",
    "\n",
    "```\n",
    "https://servicodados.ibge.gov.br/api/v1/localidades/mesorregioes/3513/municipios\n",
    "```\n",
    "\n",
    "Com esses dados, gerar um data frame e a partir dele uma temp view. Ex: \"cities\"\n",
    "\n",
    "Utilizando os nomes das cidades, deverão ser consultados os dados de previsão de tempo para cada cidade. Para realizar essa consulta, poderá ser utilizada qualquer uma das APIs informadas no link abaixo.\n",
    "\n",
    "[Public APIs - Wather](https://github.com/public-apis/public-apis#weather)\n",
    "\n",
    "Obs.: Para algumas, pode ser necessário cadastrar-se para acessar sua API Key. Mas nenhuma delas deve precisar cadastrar cartão de crédito ou adicionar qualquer valor monetário para utilizar. Caso alguma solicite, basta optar por outra.\n",
    "\n",
    "Com os dados consultados, gerar um data frame e partir dele outra temp view. Ex: \"forecasts\"\n",
    "\n",
    "Com as temp views geradas, utilizar Spark SQL para criar queries e gerar data frames das seguintes tabelas:\n",
    "\n",
    "- Tabela 1: dados de previsão do tempo para os próximos cinco dias, para cada data e cidade consultadas. As colunas dessa tabela serão:\n",
    "    - Cidade\n",
    "    - CodigoDaCidade\n",
    "    - Data\n",
    "    - Regiao\n",
    "    - Pais\n",
    "    - Latitude\n",
    "    - Longigute\n",
    "    - TemperaturaMaxima\n",
    "    - TemperaturaMinima\n",
    "    - TemperaturaMedia\n",
    "    - VaiChover\n",
    "    - ChanceDeChuva\n",
    "    - CondicaoDoTempo\n",
    "    - NascerDoSol\n",
    "    - PorDoSol\n",
    "    - VelocidadeMaximaDoVento\n",
    "    \n",
    "    Obs.: Os valores da coluna \"VaiChover\" deverá ser \"Sim\" ou \"Não\". E a coluna \"CodigoDaCidade\" é o ID retornado junto com os nomes da cidades na API do IBGE.\n",
    "    Obs.: Dependendo da API utilizada, algumas colunas podem não existir e ficarão em branco. Você deve optar por uma API que traga o maior número de informações possível.\n",
    "\n",
    "- Tabela 2: quantidade de dias com chuva e sem chuva para os dias consultados, para cada data consultada. Colunas:\n",
    "    - Cidade\n",
    "    - QtdDiasVaiChover\n",
    "    - QtdDiasNaoVaiChover\n",
    "    - TotalDiasMapeados\n",
    "\n",
    "Essas tabelas deverão ser exportadas em formado CSV e entregue no final do desafio.\n",
    "\n",
    "## To Do\n",
    "\n",
    "[ ] - Consultar municípios do Vale do Paraíba, gerar um data frame e criar uma temp view com esses dados.\n",
    "[ ] - Consultar dados do tempo para cada município, gerar um data frame e criar uma outra temp view.\n",
    "[ ] - Utilizar Spark SQL para gerar os data frames das Tabelas 1 e 2.\n",
    "[ ] - Exportar os data frames para CSV.\n",
    "\n",
    "## Atenção\n",
    "\n",
    "- Existe um limite de requisições de 10000 requests por conta cadastrada na m3o.\n",
    "- Essa API pode retornar cidades de outras regiões que possuem nome semelhante a alguma cidade do Vale do Paraiba. Pode mantê-las ou filtrar para gerar as tabelas apenas com dados de Regiao = Sao Paulo. Fica a seu critério.\n",
    "\n",
    "## Entregando o desafio\n",
    "\n",
    "Concluindo todos os passos informados em To Do, basta salvar o arquivo .ipynb do notebook e enviar para a Dataside juntamente com os CSVs das duas tabelas.\n"
   ]
  },
  {
   "cell_type": "code",
   "execution_count": 3,
   "id": "1d7e0871",
   "metadata": {},
   "outputs": [
    {
     "name": "stdout",
     "output_type": "stream",
     "text": [
      "Collecting pyspark\n",
      "  Downloading pyspark-3.3.0.tar.gz (281.3 MB)\n",
      "     ---------------------------------------- 281.3/281.3 MB ? eta 0:00:00\n",
      "  Preparing metadata (setup.py): started\n",
      "  Preparing metadata (setup.py): finished with status 'done'\n",
      "Collecting py4j==0.10.9.5\n",
      "  Downloading py4j-0.10.9.5-py2.py3-none-any.whl (199 kB)\n",
      "     ------------------------------------- 199.7/199.7 kB 12.6 MB/s eta 0:00:00\n",
      "Using legacy 'setup.py install' for pyspark, since package 'wheel' is not installed.\n",
      "Installing collected packages: py4j, pyspark\n",
      "  Running setup.py install for pyspark: started\n",
      "  Running setup.py install for pyspark: finished with status 'done'\n",
      "Successfully installed py4j-0.10.9.5 pyspark-3.3.0\n",
      "Note: you may need to restart the kernel to use updated packages.\n"
     ]
    },
    {
     "name": "stderr",
     "output_type": "stream",
     "text": [
      "\n",
      "[notice] A new release of pip available: 22.2.1 -> 22.2.2\n",
      "[notice] To update, run: python.exe -m pip install --upgrade pip\n"
     ]
    }
   ],
   "source": [
    "# Instalando pyspark\n",
    "pip install pyspark"
   ]
  },
  {
   "cell_type": "code",
   "execution_count": 4,
   "id": "e4ea4439",
   "metadata": {},
   "outputs": [
    {
     "name": "stdout",
     "output_type": "stream",
     "text": [
      "Collecting findspark\n",
      "  Downloading findspark-2.0.1-py2.py3-none-any.whl (4.4 kB)\n",
      "Installing collected packages: findspark\n",
      "Successfully installed findspark-2.0.1\n",
      "Note: you may need to restart the kernel to use updated packages.\n"
     ]
    },
    {
     "name": "stderr",
     "output_type": "stream",
     "text": [
      "\n",
      "[notice] A new release of pip available: 22.2.1 -> 22.2.2\n",
      "[notice] To update, run: python.exe -m pip install --upgrade pip\n"
     ]
    }
   ],
   "source": [
    "pip install findspark"
   ]
  },
  {
   "cell_type": "code",
   "execution_count": 5,
   "id": "d60fa12a",
   "metadata": {},
   "outputs": [
    {
     "name": "stdout",
     "output_type": "stream",
     "text": [
      "Collecting jupyterlab\n",
      "  Downloading jupyterlab-3.4.5-py3-none-any.whl (8.8 MB)\n",
      "     ---------------------------------------- 8.8/8.8 MB 9.8 MB/s eta 0:00:00\n",
      "Collecting jupyter-server~=1.16\n",
      "  Downloading jupyter_server-1.18.1-py3-none-any.whl (344 kB)\n",
      "     -------------------------------------- 344.9/344.9 kB 5.3 MB/s eta 0:00:00\n",
      "Requirement already satisfied: ipython in c:\\users\\mamad\\appdata\\local\\programs\\python\\python310\\lib\\site-packages (from jupyterlab) (8.4.0)\n",
      "Requirement already satisfied: notebook<7 in c:\\users\\mamad\\appdata\\local\\programs\\python\\python310\\lib\\site-packages (from jupyterlab) (6.4.12)\n",
      "Requirement already satisfied: jinja2>=2.1 in c:\\users\\mamad\\appdata\\local\\programs\\python\\python310\\lib\\site-packages (from jupyterlab) (3.1.2)\n",
      "Collecting nbclassic\n",
      "  Downloading nbclassic-0.4.3-py3-none-any.whl (9.7 MB)\n",
      "     ---------------------------------------- 9.7/9.7 MB 15.2 MB/s eta 0:00:00\n",
      "Collecting jupyterlab-server~=2.10\n",
      "  Downloading jupyterlab_server-2.15.1-py3-none-any.whl (54 kB)\n",
      "     -------------------------------------- 54.1/54.1 kB 279.2 kB/s eta 0:00:00\n",
      "Requirement already satisfied: tornado>=6.1.0 in c:\\users\\mamad\\appdata\\local\\programs\\python\\python310\\lib\\site-packages (from jupyterlab) (6.2)\n",
      "Requirement already satisfied: packaging in c:\\users\\mamad\\appdata\\local\\programs\\python\\python310\\lib\\site-packages (from jupyterlab) (21.3)\n",
      "Requirement already satisfied: jupyter-core in c:\\users\\mamad\\appdata\\local\\programs\\python\\python310\\lib\\site-packages (from jupyterlab) (4.11.1)\n",
      "Requirement already satisfied: MarkupSafe>=2.0 in c:\\users\\mamad\\appdata\\local\\programs\\python\\python310\\lib\\site-packages (from jinja2>=2.1->jupyterlab) (2.1.1)\n",
      "Collecting anyio<4,>=3.1.0\n",
      "  Downloading anyio-3.6.1-py3-none-any.whl (80 kB)\n",
      "     ---------------------------------------- 80.6/80.6 kB 4.4 MB/s eta 0:00:00\n",
      "Requirement already satisfied: traitlets>=5.1 in c:\\users\\mamad\\appdata\\local\\programs\\python\\python310\\lib\\site-packages (from jupyter-server~=1.16->jupyterlab) (5.3.0)\n",
      "Requirement already satisfied: Send2Trash in c:\\users\\mamad\\appdata\\local\\programs\\python\\python310\\lib\\site-packages (from jupyter-server~=1.16->jupyterlab) (1.8.0)\n",
      "Requirement already satisfied: pywinpty in c:\\users\\mamad\\appdata\\local\\programs\\python\\python310\\lib\\site-packages (from jupyter-server~=1.16->jupyterlab) (2.0.7)\n",
      "Requirement already satisfied: terminado>=0.8.3 in c:\\users\\mamad\\appdata\\local\\programs\\python\\python310\\lib\\site-packages (from jupyter-server~=1.16->jupyterlab) (0.15.0)\n",
      "Requirement already satisfied: jupyter-client>=6.1.12 in c:\\users\\mamad\\appdata\\local\\programs\\python\\python310\\lib\\site-packages (from jupyter-server~=1.16->jupyterlab) (7.3.5)\n",
      "Requirement already satisfied: nbformat>=5.2.0 in c:\\users\\mamad\\appdata\\local\\programs\\python\\python310\\lib\\site-packages (from jupyter-server~=1.16->jupyterlab) (5.4.0)\n",
      "Requirement already satisfied: nbconvert>=6.4.4 in c:\\users\\mamad\\appdata\\local\\programs\\python\\python310\\lib\\site-packages (from jupyter-server~=1.16->jupyterlab) (7.0.0)\n",
      "Requirement already satisfied: prometheus-client in c:\\users\\mamad\\appdata\\local\\programs\\python\\python310\\lib\\site-packages (from jupyter-server~=1.16->jupyterlab) (0.14.1)\n",
      "Requirement already satisfied: argon2-cffi in c:\\users\\mamad\\appdata\\local\\programs\\python\\python310\\lib\\site-packages (from jupyter-server~=1.16->jupyterlab) (21.3.0)\n",
      "Requirement already satisfied: pyzmq>=17 in c:\\users\\mamad\\appdata\\local\\programs\\python\\python310\\lib\\site-packages (from jupyter-server~=1.16->jupyterlab) (23.2.1)\n",
      "Collecting websocket-client\n",
      "  Downloading websocket_client-1.4.0-py3-none-any.whl (54 kB)\n",
      "     ---------------------------------------- 54.7/54.7 kB 2.8 MB/s eta 0:00:00\n",
      "Requirement already satisfied: pywin32>=1.0 in c:\\users\\mamad\\appdata\\local\\programs\\python\\python310\\lib\\site-packages (from jupyter-core->jupyterlab) (304)\n",
      "Collecting babel\n",
      "  Downloading Babel-2.10.3-py3-none-any.whl (9.5 MB)\n",
      "     ---------------------------------------- 9.5/9.5 MB 23.3 MB/s eta 0:00:00\n",
      "Collecting requests\n",
      "  Downloading requests-2.28.1-py3-none-any.whl (62 kB)\n",
      "     -------------------------------------- 62.8/62.8 kB 835.0 kB/s eta 0:00:00\n",
      "Requirement already satisfied: jsonschema>=3.0.1 in c:\\users\\mamad\\appdata\\local\\programs\\python\\python310\\lib\\site-packages (from jupyterlab-server~=2.10->jupyterlab) (4.15.0)\n",
      "Collecting json5\n",
      "  Downloading json5-0.9.10-py2.py3-none-any.whl (19 kB)\n",
      "Requirement already satisfied: ipython-genutils in c:\\users\\mamad\\appdata\\local\\programs\\python\\python310\\lib\\site-packages (from notebook<7->jupyterlab) (0.2.0)\n",
      "Requirement already satisfied: ipykernel in c:\\users\\mamad\\appdata\\local\\programs\\python\\python310\\lib\\site-packages (from notebook<7->jupyterlab) (6.15.2)\n",
      "Requirement already satisfied: nest-asyncio>=1.5 in c:\\users\\mamad\\appdata\\local\\programs\\python\\python310\\lib\\site-packages (from notebook<7->jupyterlab) (1.5.5)\n",
      "Requirement already satisfied: pygments>=2.4.0 in c:\\users\\mamad\\appdata\\local\\programs\\python\\python310\\lib\\site-packages (from ipython->jupyterlab) (2.13.0)\n",
      "Requirement already satisfied: setuptools>=18.5 in c:\\users\\mamad\\appdata\\local\\programs\\python\\python310\\lib\\site-packages (from ipython->jupyterlab) (63.2.0)\n",
      "Requirement already satisfied: stack-data in c:\\users\\mamad\\appdata\\local\\programs\\python\\python310\\lib\\site-packages (from ipython->jupyterlab) (0.5.0)\n",
      "Requirement already satisfied: jedi>=0.16 in c:\\users\\mamad\\appdata\\local\\programs\\python\\python310\\lib\\site-packages (from ipython->jupyterlab) (0.18.1)\n",
      "Requirement already satisfied: backcall in c:\\users\\mamad\\appdata\\local\\programs\\python\\python310\\lib\\site-packages (from ipython->jupyterlab) (0.2.0)\n",
      "Requirement already satisfied: matplotlib-inline in c:\\users\\mamad\\appdata\\local\\programs\\python\\python310\\lib\\site-packages (from ipython->jupyterlab) (0.1.6)\n",
      "Requirement already satisfied: prompt-toolkit!=3.0.0,!=3.0.1,<3.1.0,>=2.0.0 in c:\\users\\mamad\\appdata\\local\\programs\\python\\python310\\lib\\site-packages (from ipython->jupyterlab) (3.0.30)\n",
      "Requirement already satisfied: pickleshare in c:\\users\\mamad\\appdata\\local\\programs\\python\\python310\\lib\\site-packages (from ipython->jupyterlab) (0.7.5)\n",
      "Requirement already satisfied: colorama in c:\\users\\mamad\\appdata\\local\\programs\\python\\python310\\lib\\site-packages (from ipython->jupyterlab) (0.4.5)\n",
      "Requirement already satisfied: decorator in c:\\users\\mamad\\appdata\\local\\programs\\python\\python310\\lib\\site-packages (from ipython->jupyterlab) (5.1.1)\n",
      "Collecting notebook-shim>=0.1.0\n",
      "  Downloading notebook_shim-0.1.0-py3-none-any.whl (13 kB)\n",
      "Requirement already satisfied: pyparsing!=3.0.5,>=2.0.2 in c:\\users\\mamad\\appdata\\local\\programs\\python\\python310\\lib\\site-packages (from packaging->jupyterlab) (3.0.9)\n",
      "Collecting idna>=2.8\n",
      "  Downloading idna-3.3-py3-none-any.whl (61 kB)\n",
      "     ---------------------------------------- 61.2/61.2 kB 1.6 MB/s eta 0:00:00\n",
      "Collecting sniffio>=1.1\n",
      "  Downloading sniffio-1.2.0-py3-none-any.whl (10 kB)\n",
      "Requirement already satisfied: parso<0.9.0,>=0.8.0 in c:\\users\\mamad\\appdata\\local\\programs\\python\\python310\\lib\\site-packages (from jedi>=0.16->ipython->jupyterlab) (0.8.3)\n",
      "Requirement already satisfied: pyrsistent!=0.17.0,!=0.17.1,!=0.17.2,>=0.14.0 in c:\\users\\mamad\\appdata\\local\\programs\\python\\python310\\lib\\site-packages (from jsonschema>=3.0.1->jupyterlab-server~=2.10->jupyterlab) (0.18.1)\n",
      "Requirement already satisfied: attrs>=17.4.0 in c:\\users\\mamad\\appdata\\local\\programs\\python\\python310\\lib\\site-packages (from jsonschema>=3.0.1->jupyterlab-server~=2.10->jupyterlab) (22.1.0)\n",
      "Requirement already satisfied: python-dateutil>=2.8.2 in c:\\users\\mamad\\appdata\\local\\programs\\python\\python310\\lib\\site-packages (from jupyter-client>=6.1.12->jupyter-server~=1.16->jupyterlab) (2.8.2)\n",
      "Requirement already satisfied: entrypoints in c:\\users\\mamad\\appdata\\local\\programs\\python\\python310\\lib\\site-packages (from jupyter-client>=6.1.12->jupyter-server~=1.16->jupyterlab) (0.4)\n",
      "Requirement already satisfied: defusedxml in c:\\users\\mamad\\appdata\\local\\programs\\python\\python310\\lib\\site-packages (from nbconvert>=6.4.4->jupyter-server~=1.16->jupyterlab) (0.7.1)\n",
      "Requirement already satisfied: pandocfilters>=1.4.1 in c:\\users\\mamad\\appdata\\local\\programs\\python\\python310\\lib\\site-packages (from nbconvert>=6.4.4->jupyter-server~=1.16->jupyterlab) (1.5.0)\n",
      "Requirement already satisfied: bleach in c:\\users\\mamad\\appdata\\local\\programs\\python\\python310\\lib\\site-packages (from nbconvert>=6.4.4->jupyter-server~=1.16->jupyterlab) (5.0.1)\n",
      "Requirement already satisfied: lxml in c:\\users\\mamad\\appdata\\local\\programs\\python\\python310\\lib\\site-packages (from nbconvert>=6.4.4->jupyter-server~=1.16->jupyterlab) (4.9.1)\n",
      "Requirement already satisfied: mistune<3,>=2.0.3 in c:\\users\\mamad\\appdata\\local\\programs\\python\\python310\\lib\\site-packages (from nbconvert>=6.4.4->jupyter-server~=1.16->jupyterlab) (2.0.4)\n",
      "Requirement already satisfied: jupyterlab-pygments in c:\\users\\mamad\\appdata\\local\\programs\\python\\python310\\lib\\site-packages (from nbconvert>=6.4.4->jupyter-server~=1.16->jupyterlab) (0.2.2)\n",
      "Requirement already satisfied: tinycss2 in c:\\users\\mamad\\appdata\\local\\programs\\python\\python310\\lib\\site-packages (from nbconvert>=6.4.4->jupyter-server~=1.16->jupyterlab) (1.1.1)\n",
      "Requirement already satisfied: nbclient>=0.5.0 in c:\\users\\mamad\\appdata\\local\\programs\\python\\python310\\lib\\site-packages (from nbconvert>=6.4.4->jupyter-server~=1.16->jupyterlab) (0.6.7)\n",
      "Requirement already satisfied: beautifulsoup4 in c:\\users\\mamad\\appdata\\local\\programs\\python\\python310\\lib\\site-packages (from nbconvert>=6.4.4->jupyter-server~=1.16->jupyterlab) (4.11.1)\n",
      "Requirement already satisfied: fastjsonschema in c:\\users\\mamad\\appdata\\local\\programs\\python\\python310\\lib\\site-packages (from nbformat>=5.2.0->jupyter-server~=1.16->jupyterlab) (2.16.1)\n",
      "Requirement already satisfied: wcwidth in c:\\users\\mamad\\appdata\\local\\programs\\python\\python310\\lib\\site-packages (from prompt-toolkit!=3.0.0,!=3.0.1,<3.1.0,>=2.0.0->ipython->jupyterlab) (0.2.5)\n",
      "Requirement already satisfied: argon2-cffi-bindings in c:\\users\\mamad\\appdata\\local\\programs\\python\\python310\\lib\\site-packages (from argon2-cffi->jupyter-server~=1.16->jupyterlab) (21.2.0)\n",
      "Collecting pytz>=2015.7\n",
      "  Downloading pytz-2022.2.1-py2.py3-none-any.whl (500 kB)\n",
      "     -------------------------------------- 500.6/500.6 kB 7.8 MB/s eta 0:00:00\n",
      "Requirement already satisfied: psutil in c:\\users\\mamad\\appdata\\local\\programs\\python\\python310\\lib\\site-packages (from ipykernel->notebook<7->jupyterlab) (5.9.1)\n",
      "Requirement already satisfied: debugpy>=1.0 in c:\\users\\mamad\\appdata\\local\\programs\\python\\python310\\lib\\site-packages (from ipykernel->notebook<7->jupyterlab) (1.6.3)\n",
      "Collecting urllib3<1.27,>=1.21.1\n",
      "  Downloading urllib3-1.26.12-py2.py3-none-any.whl (140 kB)\n",
      "     -------------------------------------- 140.4/140.4 kB 4.2 MB/s eta 0:00:00\n",
      "Collecting charset-normalizer<3,>=2\n",
      "  Downloading charset_normalizer-2.1.1-py3-none-any.whl (39 kB)\n",
      "Collecting certifi>=2017.4.17\n",
      "  Downloading certifi-2022.6.15-py3-none-any.whl (160 kB)\n",
      "     -------------------------------------- 160.2/160.2 kB 4.8 MB/s eta 0:00:00\n",
      "Requirement already satisfied: asttokens in c:\\users\\mamad\\appdata\\local\\programs\\python\\python310\\lib\\site-packages (from stack-data->ipython->jupyterlab) (2.0.8)\n",
      "Requirement already satisfied: executing in c:\\users\\mamad\\appdata\\local\\programs\\python\\python310\\lib\\site-packages (from stack-data->ipython->jupyterlab) (1.0.0)\n",
      "Requirement already satisfied: pure-eval in c:\\users\\mamad\\appdata\\local\\programs\\python\\python310\\lib\\site-packages (from stack-data->ipython->jupyterlab) (0.2.2)\n",
      "Requirement already satisfied: six>=1.5 in c:\\users\\mamad\\appdata\\local\\programs\\python\\python310\\lib\\site-packages (from python-dateutil>=2.8.2->jupyter-client>=6.1.12->jupyter-server~=1.16->jupyterlab) (1.16.0)\n",
      "Requirement already satisfied: cffi>=1.0.1 in c:\\users\\mamad\\appdata\\local\\programs\\python\\python310\\lib\\site-packages (from argon2-cffi-bindings->argon2-cffi->jupyter-server~=1.16->jupyterlab) (1.15.1)\n",
      "Requirement already satisfied: soupsieve>1.2 in c:\\users\\mamad\\appdata\\local\\programs\\python\\python310\\lib\\site-packages (from beautifulsoup4->nbconvert>=6.4.4->jupyter-server~=1.16->jupyterlab) (2.3.2.post1)\n",
      "Requirement already satisfied: webencodings in c:\\users\\mamad\\appdata\\local\\programs\\python\\python310\\lib\\site-packages (from bleach->nbconvert>=6.4.4->jupyter-server~=1.16->jupyterlab) (0.5.1)\n",
      "Requirement already satisfied: pycparser in c:\\users\\mamad\\appdata\\local\\programs\\python\\python310\\lib\\site-packages (from cffi>=1.0.1->argon2-cffi-bindings->argon2-cffi->jupyter-server~=1.16->jupyterlab) (2.21)\n",
      "Installing collected packages: pytz, json5, websocket-client, urllib3, sniffio, idna, charset-normalizer, certifi, babel, requests, anyio, jupyter-server, notebook-shim, jupyterlab-server, nbclassic, jupyterlab\n",
      "Successfully installed anyio-3.6.1 babel-2.10.3 certifi-2022.6.15 charset-normalizer-2.1.1 idna-3.3 json5-0.9.10 jupyter-server-1.18.1 jupyterlab-3.4.5 jupyterlab-server-2.15.1 nbclassic-0.4.3 notebook-shim-0.1.0 pytz-2022.2.1 requests-2.28.1 sniffio-1.2.0 urllib3-1.26.12 websocket-client-1.4.0\n",
      "Note: you may need to restart the kernel to use updated packages.\n"
     ]
    },
    {
     "name": "stderr",
     "output_type": "stream",
     "text": [
      "  WARNING: The script pyjson5.exe is installed in 'c:\\Users\\mamad\\AppData\\Local\\Programs\\Python\\Python310\\Scripts' which is not on PATH.\n",
      "  Consider adding this directory to PATH or, if you prefer to suppress this warning, use --no-warn-script-location.\n",
      "  WARNING: The script wsdump.exe is installed in 'c:\\Users\\mamad\\AppData\\Local\\Programs\\Python\\Python310\\Scripts' which is not on PATH.\n",
      "  Consider adding this directory to PATH or, if you prefer to suppress this warning, use --no-warn-script-location.\n",
      "  WARNING: The script normalizer.exe is installed in 'c:\\Users\\mamad\\AppData\\Local\\Programs\\Python\\Python310\\Scripts' which is not on PATH.\n",
      "  Consider adding this directory to PATH or, if you prefer to suppress this warning, use --no-warn-script-location.\n",
      "  WARNING: The script pybabel.exe is installed in 'c:\\Users\\mamad\\AppData\\Local\\Programs\\Python\\Python310\\Scripts' which is not on PATH.\n",
      "  Consider adding this directory to PATH or, if you prefer to suppress this warning, use --no-warn-script-location.\n",
      "  WARNING: The script jupyter-server.exe is installed in 'c:\\Users\\mamad\\AppData\\Local\\Programs\\Python\\Python310\\Scripts' which is not on PATH.\n",
      "  Consider adding this directory to PATH or, if you prefer to suppress this warning, use --no-warn-script-location.\n",
      "  WARNING: The scripts jupyter-bundlerextension.exe, jupyter-nbclassic.exe, jupyter-nbextension.exe and jupyter-serverextension.exe are installed in 'c:\\Users\\mamad\\AppData\\Local\\Programs\\Python\\Python310\\Scripts' which is not on PATH.\n",
      "  Consider adding this directory to PATH or, if you prefer to suppress this warning, use --no-warn-script-location.\n",
      "  WARNING: The scripts jlpm.exe, jupyter-lab.exe, jupyter-labextension.exe and jupyter-labhub.exe are installed in 'c:\\Users\\mamad\\AppData\\Local\\Programs\\Python\\Python310\\Scripts' which is not on PATH.\n",
      "  Consider adding this directory to PATH or, if you prefer to suppress this warning, use --no-warn-script-location.\n",
      "\n",
      "[notice] A new release of pip available: 22.2.1 -> 22.2.2\n",
      "[notice] To update, run: python.exe -m pip install --upgrade pip\n"
     ]
    }
   ],
   "source": [
    "pip install jupyterlab"
   ]
  },
  {
   "cell_type": "code",
   "execution_count": 2,
   "id": "416d793b",
   "metadata": {},
   "outputs": [
    {
     "name": "stdout",
     "output_type": "stream",
     "text": [
      "Requirement already satisfied: Unidecode in c:\\users\\mamad\\appdata\\local\\programs\\python\\python310\\lib\\site-packages (1.3.4)\n",
      "Note: you may need to restart the kernel to use updated packages.\n"
     ]
    },
    {
     "name": "stderr",
     "output_type": "stream",
     "text": [
      "\n",
      "[notice] A new release of pip available: 22.2.1 -> 22.2.2\n",
      "[notice] To update, run: python.exe -m pip install --upgrade pip\n"
     ]
    }
   ],
   "source": [
    "pip install Unidecode"
   ]
  },
  {
   "cell_type": "code",
   "execution_count": 6,
   "id": "a1cb6c40-3073-43b0-b7f4-95e7c9dd8245",
   "metadata": {
    "tags": []
   },
   "outputs": [
    {
     "ename": "RuntimeError",
     "evalue": "Java gateway process exited before sending its port number",
     "output_type": "error",
     "traceback": [
      "\u001b[1;31m---------------------------------------------------------------------------\u001b[0m",
      "\u001b[1;31mRuntimeError\u001b[0m                              Traceback (most recent call last)",
      "\u001b[1;32mc:\\Users\\mamad\\Downloads\\spark_test.ipynb Célula: 6\u001b[0m in \u001b[0;36m<cell line: 10>\u001b[1;34m()\u001b[0m\n\u001b[0;32m      <a href='vscode-notebook-cell:/c%3A/Users/mamad/Downloads/spark_test.ipynb#W5sZmlsZQ%3D%3D?line=6'>7</a>\u001b[0m \u001b[39mfrom\u001b[39;00m \u001b[39mpyspark\u001b[39;00m\u001b[39m.\u001b[39;00m\u001b[39msql\u001b[39;00m \u001b[39mimport\u001b[39;00m SparkSession\n\u001b[0;32m      <a href='vscode-notebook-cell:/c%3A/Users/mamad/Downloads/spark_test.ipynb#W5sZmlsZQ%3D%3D?line=7'>8</a>\u001b[0m \u001b[39mfrom\u001b[39;00m \u001b[39mpyspark\u001b[39;00m \u001b[39mimport\u001b[39;00m SparkContext, SparkConf\n\u001b[0;32m     <a href='vscode-notebook-cell:/c%3A/Users/mamad/Downloads/spark_test.ipynb#W5sZmlsZQ%3D%3D?line=9'>10</a>\u001b[0m spark \u001b[39m=\u001b[39m SparkSession\u001b[39m.\u001b[39;49mbuilder \\\n\u001b[0;32m     <a href='vscode-notebook-cell:/c%3A/Users/mamad/Downloads/spark_test.ipynb#W5sZmlsZQ%3D%3D?line=10'>11</a>\u001b[0m       \u001b[39m.\u001b[39;49mmaster(\u001b[39m\"\u001b[39;49m\u001b[39mlocal[1]\u001b[39;49m\u001b[39m\"\u001b[39;49m) \\\n\u001b[0;32m     <a href='vscode-notebook-cell:/c%3A/Users/mamad/Downloads/spark_test.ipynb#W5sZmlsZQ%3D%3D?line=11'>12</a>\u001b[0m       \u001b[39m.\u001b[39;49mappName(\u001b[39m\"\u001b[39;49m\u001b[39mprojeto-dataside\u001b[39;49m\u001b[39m\"\u001b[39;49m) \\\n\u001b[1;32m---> <a href='vscode-notebook-cell:/c%3A/Users/mamad/Downloads/spark_test.ipynb#W5sZmlsZQ%3D%3D?line=12'>13</a>\u001b[0m       \u001b[39m.\u001b[39;49mgetOrCreate()\n",
      "File \u001b[1;32mc:\\Users\\mamad\\AppData\\Local\\Programs\\Python\\Python310\\lib\\site-packages\\pyspark\\sql\\session.py:269\u001b[0m, in \u001b[0;36mSparkSession.Builder.getOrCreate\u001b[1;34m(self)\u001b[0m\n\u001b[0;32m    267\u001b[0m     sparkConf\u001b[39m.\u001b[39mset(key, value)\n\u001b[0;32m    268\u001b[0m \u001b[39m# This SparkContext may be an existing one.\u001b[39;00m\n\u001b[1;32m--> 269\u001b[0m sc \u001b[39m=\u001b[39m SparkContext\u001b[39m.\u001b[39;49mgetOrCreate(sparkConf)\n\u001b[0;32m    270\u001b[0m \u001b[39m# Do not update `SparkConf` for existing `SparkContext`, as it's shared\u001b[39;00m\n\u001b[0;32m    271\u001b[0m \u001b[39m# by all sessions.\u001b[39;00m\n\u001b[0;32m    272\u001b[0m session \u001b[39m=\u001b[39m SparkSession(sc, options\u001b[39m=\u001b[39m\u001b[39mself\u001b[39m\u001b[39m.\u001b[39m_options)\n",
      "File \u001b[1;32mc:\\Users\\mamad\\AppData\\Local\\Programs\\Python\\Python310\\lib\\site-packages\\pyspark\\context.py:483\u001b[0m, in \u001b[0;36mSparkContext.getOrCreate\u001b[1;34m(cls, conf)\u001b[0m\n\u001b[0;32m    481\u001b[0m \u001b[39mwith\u001b[39;00m SparkContext\u001b[39m.\u001b[39m_lock:\n\u001b[0;32m    482\u001b[0m     \u001b[39mif\u001b[39;00m SparkContext\u001b[39m.\u001b[39m_active_spark_context \u001b[39mis\u001b[39;00m \u001b[39mNone\u001b[39;00m:\n\u001b[1;32m--> 483\u001b[0m         SparkContext(conf\u001b[39m=\u001b[39;49mconf \u001b[39mor\u001b[39;49;00m SparkConf())\n\u001b[0;32m    484\u001b[0m     \u001b[39massert\u001b[39;00m SparkContext\u001b[39m.\u001b[39m_active_spark_context \u001b[39mis\u001b[39;00m \u001b[39mnot\u001b[39;00m \u001b[39mNone\u001b[39;00m\n\u001b[0;32m    485\u001b[0m     \u001b[39mreturn\u001b[39;00m SparkContext\u001b[39m.\u001b[39m_active_spark_context\n",
      "File \u001b[1;32mc:\\Users\\mamad\\AppData\\Local\\Programs\\Python\\Python310\\lib\\site-packages\\pyspark\\context.py:195\u001b[0m, in \u001b[0;36mSparkContext.__init__\u001b[1;34m(self, master, appName, sparkHome, pyFiles, environment, batchSize, serializer, conf, gateway, jsc, profiler_cls, udf_profiler_cls)\u001b[0m\n\u001b[0;32m    189\u001b[0m \u001b[39mif\u001b[39;00m gateway \u001b[39mis\u001b[39;00m \u001b[39mnot\u001b[39;00m \u001b[39mNone\u001b[39;00m \u001b[39mand\u001b[39;00m gateway\u001b[39m.\u001b[39mgateway_parameters\u001b[39m.\u001b[39mauth_token \u001b[39mis\u001b[39;00m \u001b[39mNone\u001b[39;00m:\n\u001b[0;32m    190\u001b[0m     \u001b[39mraise\u001b[39;00m \u001b[39mValueError\u001b[39;00m(\n\u001b[0;32m    191\u001b[0m         \u001b[39m\"\u001b[39m\u001b[39mYou are trying to pass an insecure Py4j gateway to Spark. This\u001b[39m\u001b[39m\"\u001b[39m\n\u001b[0;32m    192\u001b[0m         \u001b[39m\"\u001b[39m\u001b[39m is not allowed as it is a security risk.\u001b[39m\u001b[39m\"\u001b[39m\n\u001b[0;32m    193\u001b[0m     )\n\u001b[1;32m--> 195\u001b[0m SparkContext\u001b[39m.\u001b[39;49m_ensure_initialized(\u001b[39mself\u001b[39;49m, gateway\u001b[39m=\u001b[39;49mgateway, conf\u001b[39m=\u001b[39;49mconf)\n\u001b[0;32m    196\u001b[0m \u001b[39mtry\u001b[39;00m:\n\u001b[0;32m    197\u001b[0m     \u001b[39mself\u001b[39m\u001b[39m.\u001b[39m_do_init(\n\u001b[0;32m    198\u001b[0m         master,\n\u001b[0;32m    199\u001b[0m         appName,\n\u001b[1;32m   (...)\u001b[0m\n\u001b[0;32m    208\u001b[0m         udf_profiler_cls,\n\u001b[0;32m    209\u001b[0m     )\n",
      "File \u001b[1;32mc:\\Users\\mamad\\AppData\\Local\\Programs\\Python\\Python310\\lib\\site-packages\\pyspark\\context.py:417\u001b[0m, in \u001b[0;36mSparkContext._ensure_initialized\u001b[1;34m(cls, instance, gateway, conf)\u001b[0m\n\u001b[0;32m    415\u001b[0m \u001b[39mwith\u001b[39;00m SparkContext\u001b[39m.\u001b[39m_lock:\n\u001b[0;32m    416\u001b[0m     \u001b[39mif\u001b[39;00m \u001b[39mnot\u001b[39;00m SparkContext\u001b[39m.\u001b[39m_gateway:\n\u001b[1;32m--> 417\u001b[0m         SparkContext\u001b[39m.\u001b[39m_gateway \u001b[39m=\u001b[39m gateway \u001b[39mor\u001b[39;00m launch_gateway(conf)\n\u001b[0;32m    418\u001b[0m         SparkContext\u001b[39m.\u001b[39m_jvm \u001b[39m=\u001b[39m SparkContext\u001b[39m.\u001b[39m_gateway\u001b[39m.\u001b[39mjvm\n\u001b[0;32m    420\u001b[0m     \u001b[39mif\u001b[39;00m instance:\n",
      "File \u001b[1;32mc:\\Users\\mamad\\AppData\\Local\\Programs\\Python\\Python310\\lib\\site-packages\\pyspark\\java_gateway.py:106\u001b[0m, in \u001b[0;36mlaunch_gateway\u001b[1;34m(conf, popen_kwargs)\u001b[0m\n\u001b[0;32m    103\u001b[0m     time\u001b[39m.\u001b[39msleep(\u001b[39m0.1\u001b[39m)\n\u001b[0;32m    105\u001b[0m \u001b[39mif\u001b[39;00m \u001b[39mnot\u001b[39;00m os\u001b[39m.\u001b[39mpath\u001b[39m.\u001b[39misfile(conn_info_file):\n\u001b[1;32m--> 106\u001b[0m     \u001b[39mraise\u001b[39;00m \u001b[39mRuntimeError\u001b[39;00m(\u001b[39m\"\u001b[39m\u001b[39mJava gateway process exited before sending its port number\u001b[39m\u001b[39m\"\u001b[39m)\n\u001b[0;32m    108\u001b[0m \u001b[39mwith\u001b[39;00m \u001b[39mopen\u001b[39m(conn_info_file, \u001b[39m\"\u001b[39m\u001b[39mrb\u001b[39m\u001b[39m\"\u001b[39m) \u001b[39mas\u001b[39;00m info:\n\u001b[0;32m    109\u001b[0m     gateway_port \u001b[39m=\u001b[39m read_int(info)\n",
      "\u001b[1;31mRuntimeError\u001b[0m: Java gateway process exited before sending its port number"
     ]
    }
   ],
   "source": [
    "import findspark\n",
    "findspark.init()\n",
    "\n",
    "import requests\n",
    "import json\n",
    "import unidecode\n",
    "from pyspark.sql import SparkSession\n",
    "from pyspark import SparkContext, SparkConf\n",
    "\n",
    "spark = SparkSession.builder \\\n",
    "      .master(\"local[1]\") \\\n",
    "      .appName(\"projeto-dataside\") \\\n",
    "      .getOrCreate()"
   ]
  },
  {
   "cell_type": "code",
   "execution_count": null,
   "id": "cdc739f4-2ebf-4ff2-91ff-89689510e618",
   "metadata": {
    "tags": []
   },
   "outputs": [],
   "source": [
    "# Buscar cidades do Vale do Paraíba\n",
    "# TODO\n",
    "\n",
    "# Criar data frame com as cidades\n",
    "# TODO\n",
    "\n",
    "# Criar view com as cidades\n",
    "# TODO"
   ]
  },
  {
   "cell_type": "code",
   "execution_count": null,
   "id": "c4a40a6f-d5f1-4524-9d0b-d1e6e24dfbfa",
   "metadata": {
    "tags": []
   },
   "outputs": [],
   "source": [
    "# Buscar previsão do tempo para as cidades\n",
    "# TODO\n",
    "\n",
    "# Criar data frame com as previsões\n",
    "# TODO\n",
    "\n",
    "# Criar view com as previsões\n",
    "# TODO"
   ]
  },
  {
   "cell_type": "code",
   "execution_count": null,
   "id": "bbc2a925-c707-46f0-a2e2-e0e0164a7312",
   "metadata": {},
   "outputs": [],
   "source": [
    "# Criar DF da Tabela 1\n",
    "# TODO"
   ]
  },
  {
   "cell_type": "code",
   "execution_count": null,
   "id": "3bab3315-f50b-4269-8823-ccfda0fefbfe",
   "metadata": {},
   "outputs": [],
   "source": [
    "# Criar DF da Tabela 2\n",
    "# TODO"
   ]
  },
  {
   "cell_type": "code",
   "execution_count": null,
   "id": "c1ff378b-4c24-47dc-aba1-742211cd385d",
   "metadata": {},
   "outputs": [],
   "source": [
    "# Exportar CSVs\n",
    "# TODO"
   ]
  }
 ],
 "metadata": {
  "kernelspec": {
   "display_name": "Python 3.10.6 64-bit",
   "language": "python",
   "name": "python3"
  },
  "language_info": {
   "codemirror_mode": {
    "name": "ipython",
    "version": 3
   },
   "file_extension": ".py",
   "mimetype": "text/x-python",
   "name": "python",
   "nbconvert_exporter": "python",
   "pygments_lexer": "ipython3",
   "version": "3.10.6"
  },
  "vscode": {
   "interpreter": {
    "hash": "40fba417a8d00509eeb85bc685e06144f84a04cee3652ce6ceed683562450af0"
   }
  }
 },
 "nbformat": 4,
 "nbformat_minor": 5
}
